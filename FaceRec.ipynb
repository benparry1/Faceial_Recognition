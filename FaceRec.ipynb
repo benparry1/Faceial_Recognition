{
 "cells": [
  {
   "cell_type": "code",
   "execution_count": null,
   "id": "7c5b9c66",
   "metadata": {},
   "outputs": [],
   "source": [
    "import cv2\n",
    "import os\n",
    "import random\n",
    "import numpy as np\n",
    "from matplotlib import pyplot as plt\n"
   ]
  },
  {
   "cell_type": "code",
   "execution_count": null,
   "id": "4defe62f",
   "metadata": {},
   "outputs": [],
   "source": [
    "#import tensorflow dependencies\n",
    "#tensorflow functional api\n",
    "#siamese neural network\n",
    "from tensorflow.keras.models import Model\n",
    "from tensorflow.keras.layers import Layer, Conv2D, Dense, MaxPooling2D, Input, Flatten\n",
    "import tensorflow as tf"
   ]
  },
  {
   "cell_type": "code",
   "execution_count": null,
   "id": "a2ac50c6",
   "metadata": {},
   "outputs": [],
   "source": [
    "# Avoid OOM errors by setting gpu memoty consumption growth\n",
    "gpus = tf.config.experimental.list_physical_devices('GPU')\n",
    "for gpu in gpus:\n",
    "    tf.config.experimental.set_memory_growth(gpu, True)"
   ]
  },
  {
   "cell_type": "code",
   "execution_count": null,
   "id": "3c29f095",
   "metadata": {},
   "outputs": [],
   "source": [
    "#pass in the input (or anchor) imagage and test it against a positive (the same) and a negative (different) image\n",
    "#the neural network will return 0 if the two images are different and 1 if they are the same\n",
    "#start with an anchor and a positive or negative comparison, pass those to the model then to a distance layer"
   ]
  },
  {
   "cell_type": "code",
   "execution_count": null,
   "id": "c2608f1f",
   "metadata": {},
   "outputs": [],
   "source": [
    "#setup paths (folders)\n",
    "POS_PATH = os.path.join('data', 'positive')\n",
    "NEG_PATH = os.path.join('data', 'negative')\n",
    "ANC_PATH = os.path.join('data', 'anchor')"
   ]
  },
  {
   "cell_type": "code",
   "execution_count": null,
   "id": "69aacad5",
   "metadata": {
    "scrolled": true
   },
   "outputs": [],
   "source": [
    "#make the directories\n",
    "os.makedirs(POS_PATH)\n",
    "os.makedirs(NEG_PATH)\n",
    "os.makedirs(ANC_PATH)"
   ]
  },
  {
   "cell_type": "code",
   "execution_count": null,
   "id": "641bc027",
   "metadata": {},
   "outputs": [],
   "source": [
    "#positive images are images that match the input image\n",
    "    #ie they are the same object\n",
    "#negative images are images that do not match the input image\n",
    "#the model tries to determine the difference between the input (anchor) and positive image\n",
    "#an output of 1 means the two images match aka verified for facial rec\n",
    "#for a family household, the anchor image needs to be compared with everyone in the family\n",
    "#need to collect anchor, postive and negative to train model\n",
    "\n",
    "\n"
   ]
  },
  {
   "cell_type": "code",
   "execution_count": null,
   "id": "ff22080e",
   "metadata": {},
   "outputs": [],
   "source": [
    "#uncompress tar GZ labelized faces in the wild dataset\n",
    "!tar -xf lfw.tgz"
   ]
  },
  {
   "cell_type": "code",
   "execution_count": null,
   "id": "a7718ae1",
   "metadata": {
    "scrolled": false
   },
   "outputs": [],
   "source": [
    "#move lfw images to the following repository (negative folder)\n",
    "#goes into each folder in lfw and moves each picture that is in there\n",
    "for directory in os.listdir('lfw'):\n",
    "    for file in os.listdir(os.path.join('lfw', directory)):\n",
    "        EX_PATH = os.path.join('lfw',directory, file)\n",
    "        NEW_PATH = os.path.join(NEG_PATH, file)\n",
    "        os.replace(EX_PATH, NEW_PATH)"
   ]
  },
  {
   "cell_type": "code",
   "execution_count": null,
   "id": "8128a007",
   "metadata": {},
   "outputs": [],
   "source": [
    "#import uuid library to generate unique image names\n",
    "import uuid"
   ]
  },
  {
   "cell_type": "code",
   "execution_count": null,
   "id": "a8f166a5",
   "metadata": {
    "scrolled": true
   },
   "outputs": [],
   "source": [
    "#negative image sizes are 250x250\n",
    "\n",
    "cap=cv2.VideoCapture(1)  #establish a connection to the webcam\n",
    "while cap.isOpened():    #loop through the frames from the webcam\n",
    "    ret,frame = cap.read()  #unpack and get a single frame\n",
    "    \n",
    "    #cut down frame to 250x250 pixels\n",
    "    frame = frame[300:300+250,540:540+250,:]\n",
    "    \n",
    "    #collect anchors\n",
    "    if cv2.waitKey(1) & 0XFF == ord('a'):\n",
    "        #create the unique file path\n",
    "        imgname = os.path.join(ANC_PATH, '{}.jpg'.format(uuid.uuid1()))\n",
    "        #write out anchor image\n",
    "        cv2.imwrite(imgname, frame)   \n",
    "            \n",
    "    #collect positives\n",
    "    if cv2.waitKey(1) & 0XFF == ord('p'):  \n",
    "        imgname = os.path.join(POS_PATH, '{}.jpg'.format(uuid.uuid1()))\n",
    "        cv2.imwrite(imgname, frame)   \n",
    "            \n",
    "    \n",
    "    cv2.imshow('Image Collection', frame)   #show image back to screen\n",
    "    \n",
    "    if cv2.waitKey(1) & 0XFF == ord('q'):   #breaking gracefully\n",
    "        break                               #if it waits a millisecond and q is hit on the keyboard, it quits\n",
    "cap.release()            #close the image show frame\n",
    "cv2.destroyAllWindows()"
   ]
  },
  {
   "cell_type": "code",
   "execution_count": null,
   "id": "58a4c997",
   "metadata": {},
   "outputs": [],
   "source": [
    "#tensorflow data input pipeline\n",
    "#load folders\n",
    "#create a preproccessing pipeline\n",
    "#associate the positive and negative classes"
   ]
  },
  {
   "cell_type": "code",
   "execution_count": null,
   "id": "0db24869",
   "metadata": {
    "scrolled": true
   },
   "outputs": [],
   "source": [
    "#grab all the image directories \n",
    "\n",
    "anchor = tf.data.Dataset.list_files(ANC_PATH+'/*.jpg').take(300) #take(len(os.listdir(os.path.join('data', 'anchor'))))\n",
    "positive = tf.data.Dataset.list_files(POS_PATH+'/*.jpg').take(300)  #take(len(os.listdir(os.path.join('data', 'positive'))))\n",
    "negative = tf.data.Dataset.list_files(NEG_PATH+'/*.jpg').take(300)  #take(len(os.listdir(os.path.join('data', 'negative'))))"
   ]
  },
  {
   "cell_type": "code",
   "execution_count": null,
   "id": "7440cad8",
   "metadata": {},
   "outputs": [],
   "source": [
    "#preprocessing - scale and resize\n",
    "def preprocess(file_path):\n",
    "    \n",
    "    #read in image from file path\n",
    "    byte_img = tf.io.read_file(file_path)\n",
    "    #load in the image\n",
    "    img = tf.io.decode_jpeg(byte_img)\n",
    "    \n",
    "    #preprocessing steps- resize the image to be 100 pixels x 100 pixels x 3 colors\n",
    "    img = tf.image.resize(img, (100,100))\n",
    "    #scale image to be between 0 and 1\n",
    "    img = img / 255.0\n",
    "    \n",
    "    #return image\n",
    "    return img"
   ]
  },
  {
   "cell_type": "code",
   "execution_count": null,
   "id": "bc2ad71d",
   "metadata": {},
   "outputs": [],
   "source": [
    "# (anchor, positive) => 1,1,1,1 array of 1s\n",
    "# (anchor, negative) => 0,0,0,0 array of 0s\n",
    "# puts togethor the positive and negative images so that the model will know when two images are supposed to return a 0 and a 1\n"
   ]
  },
  {
   "cell_type": "code",
   "execution_count": null,
   "id": "24dff531",
   "metadata": {},
   "outputs": [],
   "source": [
    "positives = tf.data.Dataset.zip((anchor, positive, tf.data.Dataset.from_tensor_slices(tf.ones(len(anchor)))))\n",
    "negatives = tf.data.Dataset.zip((anchor, negative, tf.data.Dataset.from_tensor_slices(tf.zeros(len(anchor)))))\n",
    "data = positives.concatenate(negatives)"
   ]
  },
  {
   "cell_type": "code",
   "execution_count": null,
   "id": "383efff2",
   "metadata": {},
   "outputs": [],
   "source": [
    "#structure:\n",
    "#file path to anchor, file path to pos or neg, label representing a pos or neg case\n"
   ]
  },
  {
   "cell_type": "code",
   "execution_count": null,
   "id": "25b7ce70",
   "metadata": {},
   "outputs": [],
   "source": [
    "def preprocess_twin(input_img, validation_img, label):\n",
    "    return(preprocess(input_img), preprocess(validation_img), label)"
   ]
  },
  {
   "cell_type": "code",
   "execution_count": null,
   "id": "41665f6f",
   "metadata": {
    "scrolled": true
   },
   "outputs": [],
   "source": [
    "# build dataloader pipeline\n",
    "data = data.map(preprocess_twin)\n",
    "data = data.cache()\n",
    "data = data.shuffle(buffer_size=1024)"
   ]
  },
  {
   "cell_type": "code",
   "execution_count": null,
   "id": "b55a6062",
   "metadata": {},
   "outputs": [],
   "source": [
    "#training partition\n",
    "train_data = data.take(round(len(data)*.7)) #take first 70 percent of data\n",
    "train_data = train_data.batch(16)   #pass in data as batches of 16\n",
    "train_data = train_data.prefetch(8)  #starts preprcoessing the next batch before the end of the curent batch"
   ]
  },
  {
   "cell_type": "code",
   "execution_count": null,
   "id": "75e767b8",
   "metadata": {},
   "outputs": [],
   "source": [
    "# testing partition\n",
    "test_data = data.skip(round(len(data)*.7))  #skips the first 70 percent\n",
    "test_data = test_data.take(round(len(data)*.3))  #takes the last 30 percent\n",
    "test_data = test_data.batch(16)\n",
    "test_data = test_data.prefetch(8)"
   ]
  },
  {
   "cell_type": "code",
   "execution_count": null,
   "id": "8fb59d74",
   "metadata": {},
   "outputs": [],
   "source": [
    "# 1. build an embedding layer (converts a raw image to a data representation that is passed to the simese NN)\n",
    "# 2. create an L1 distance layer (determines if the embedding layers, anchor and pos/neg image, are similar enough to be verified)\n",
    "# 3. compile the siamese network"
   ]
  },
  {
   "cell_type": "code",
   "execution_count": null,
   "id": "86770bda",
   "metadata": {},
   "outputs": [],
   "source": [
    "#form a core block\n",
    "#will get replicated a few times\n",
    "#each block is another convolution and max-pooling layer but with different filters\n",
    "\n",
    "def make_embedding():\n",
    "    inp = Input(shape=(100,100,3), name='input_image')   #input image\n",
    "   \n",
    "    #first block\n",
    "    c1 = Conv2D(64, (10,10), activation='relu')(inp)  #64 filter, 10x10 pixel size, relu activation\n",
    "    m1 = MaxPooling2D(64, (2,2), padding='same')(c1)  #64 units, shape of 2x2, condenses data (returns the max value out of a 2x2 area)\n",
    "                                                      #padding is the same so the output shape is the same\n",
    "    #second block\n",
    "    c2 = Conv2D(128,(7,7), activation='relu')(m1)\n",
    "    m2 = MaxPooling2D(64,(2,2), padding='same')(c2)\n",
    "    \n",
    "    #third block\n",
    "    c3 = Conv2D(128, (4,4), activation='relu')(m2)\n",
    "    m3 = MaxPooling2D(64,(2,2), padding='same')(c3)\n",
    "    \n",
    "    #fourth (final) block is a conv and a fully connected layer\n",
    "    c4= Conv2D(256, (4,4), activation='relu')(m3)\n",
    "    f1 = Flatten()(c4)       #flattens the 3 convolution layers (3 dimensions) into one dimension\n",
    "    d1 = Dense(4096, activation='sigmoid')(f1) #feature vector\n",
    "    \n",
    "    \n",
    "    return Model(inputs=[inp], outputs=[d1], name='embedding')"
   ]
  },
  {
   "cell_type": "code",
   "execution_count": null,
   "id": "f12ac951",
   "metadata": {},
   "outputs": [],
   "source": [
    "embedding = make_embedding()"
   ]
  },
  {
   "cell_type": "code",
   "execution_count": null,
   "id": "78dd06cb",
   "metadata": {},
   "outputs": [],
   "source": [
    "embedding.summary()"
   ]
  },
  {
   "cell_type": "code",
   "execution_count": null,
   "id": "210a9c67",
   "metadata": {},
   "outputs": [],
   "source": [
    "#Siamese L1 distance class\n",
    "#L1 distance layer: tells you how similar two pictures are\n",
    "#imput is the \n",
    "\n",
    "class L1Dist(Layer):\n",
    "    \n",
    "    #init mehtod - inheritance\n",
    "    def __init__(self, **kwargs):\n",
    "        super().__init__()\n",
    "        \n",
    "    #important stuff\n",
    "    #tells the layer what to do when data is passed to it\n",
    "    #subtracts the validation of the anchor and pos/neg embedding\n",
    "    #returns an absolute value of the difference\n",
    "    def call(self, input_embedding, validation_embedding):\n",
    "        return tf.math.abs(input_embedding - validation_embedding)"
   ]
  },
  {
   "cell_type": "code",
   "execution_count": null,
   "id": "00f50b5e",
   "metadata": {},
   "outputs": [],
   "source": [
    "#bring everthing togethor\n",
    "\n",
    "def make_siamese_model():\n",
    "    \n",
    "    #Anchor image input in the network\n",
    "    input_image = Input(name='input_img', shape=(100,100,3))\n",
    "    \n",
    "    #validation image in the network\n",
    "    validation_image= Input(name='vaidation_img', shape=(100,100,3))\n",
    "    \n",
    "    #combine siamese distance components\n",
    "    siamese_layer = L1Dist()\n",
    "    siamese_layer._name = 'distance'\n",
    "    inp_embedding = embedding(input_image)\n",
    "    val_embedding = embedding(validation_image)\n",
    "    distances = siamese_layer(inp_embedding, val_embedding)\n",
    "    \n",
    "    #classification layer\n",
    "    classifier = Dense(1, activation='sigmoid')(distances)\n",
    "    \n",
    "    return Model(inputs=[input_image, validation_image], outputs=classifier, name='SiameseNetwork')\n",
    "\n",
    "    "
   ]
  },
  {
   "cell_type": "code",
   "execution_count": null,
   "id": "97dbc93b",
   "metadata": {},
   "outputs": [],
   "source": [
    "siamese_model = make_siamese_model()"
   ]
  },
  {
   "cell_type": "code",
   "execution_count": null,
   "id": "4a55acde",
   "metadata": {},
   "outputs": [],
   "source": [
    "siamese_model.summary()"
   ]
  },
  {
   "cell_type": "code",
   "execution_count": null,
   "id": "c10ffb36",
   "metadata": {},
   "outputs": [],
   "source": [
    "# Training:\n",
    "\n",
    "# 1. set up a loss function\n",
    "# 2. set up an optimizer\n",
    "# 3. build a custom training step - the training done on each step\n",
    "# 4. create a training loop\n",
    "# 5. train the model\n",
    "\n",
    "# checkpoints allow for a reload point in case something goes wrong, and a complete restrat is not needed\n",
    "\n"
   ]
  },
  {
   "cell_type": "code",
   "execution_count": null,
   "id": "be056a79",
   "metadata": {},
   "outputs": [],
   "source": [
    "# loss and optimizer\n",
    "#Adam optimizer runs slowly on M1- use .legacy \n",
    "\n",
    "#tensorflow loss \n",
    "binary_cross_loss = tf.losses.BinaryCrossentropy()\n",
    "\n",
    "#tensorflow adam optimizer\n",
    "opt = tf.keras.optimizers.legacy.Adam(1e-4)  #learnig rate of 0.0001"
   ]
  },
  {
   "cell_type": "code",
   "execution_count": null,
   "id": "f45e0a1a",
   "metadata": {},
   "outputs": [],
   "source": [
    "#checkpoints\n",
    "\n",
    "checkpoint_dir = './training_checkpoints'  #new directory to save the checkpoints\n",
    "checkpoint_prefix = os.path.join(checkpoint_dir, 'ckpt')  #checpoint prefix\n",
    "checkpoint = tf.train.Checkpoint(opt=opt, siamese_model=siamese_model)  #saves the current optimizer and siamese model"
   ]
  },
  {
   "cell_type": "code",
   "execution_count": null,
   "id": "e2d64470",
   "metadata": {},
   "outputs": [],
   "source": [
    "#train step function\n",
    "#used to train on one batch of data\n",
    "#make a prediciton, calculate loss, calculate gradients, apply back propogation through the NN to ge tthe best possible model\n",
    "\n",
    "#nasic flow for training one batch:\n",
    "   # 1. make a predicition\n",
    "   # 2. calculate loss\n",
    "   # 3. derive gradients\n",
    "   # 4. calculate new weights and apply\n",
    "\n",
    "@tf.function   #compiles a function into a callable tensorFlow graph\n",
    "def train_step(batch):  #batch = batch of data\n",
    "    \n",
    "    with tf.GradientTape() as tape:\n",
    "        #get anchor and pos/neg image (features)\n",
    "        X = batch[:2]  # 0 is the anchor image index, 1 is the pos/neg, and 2 is the label (ie 1 or 0)\n",
    "        #get label\n",
    "        y = batch[2]\n",
    "        \n",
    "        # forward pass\n",
    "        yhat = siamese_model(X, training=True)   #important for training to be set to true\n",
    "                                                 # hat notation is for estimations, so y hat is the mode's estimation for the label, ie its guess on how similar two pictures are\n",
    "        #calculate loss\n",
    "        loss = binary_cross_loss(y, yhat)        #difference between actual y value and y_hat\n",
    "\n",
    "    #calculate gradients \n",
    "    grad = tape.gradient(loss, siamese_model.trainable_variables)\n",
    "    \n",
    "    #calculate updated weights and apply to siamese model\n",
    "    opt.apply_gradients(zip(grad, siamese_model.trainable_variables))\n",
    "\n",
    "    return loss"
   ]
  },
  {
   "cell_type": "code",
   "execution_count": null,
   "id": "6acb90d5",
   "metadata": {},
   "outputs": [],
   "source": [
    "# training loop\n",
    "\n",
    "def train(data, EPOCHS):\n",
    "    #loop through the epochs\n",
    "    for epoch in range(1,EPOCHS+1):\n",
    "        print('\\n Epoch {}/{}'.format(epoch, EPOCHS))\n",
    "        progbar = tf.keras.utils.Progbar(len(data))  #progress bar\n",
    "    \n",
    "        #loop through each batch\n",
    "        for idx, batch in enumerate(data):\n",
    "            #run train step here\n",
    "            train_step(batch)\n",
    "            progbar.update(idx+1)\n",
    "              \n",
    "        #save the checkpoints, saves a checkpoint every 10 epochs\n",
    "        if epoch%10==0:\n",
    "            checkpoint.save(file_prefix=checkpoint_prefix)\n",
    "              \n",
    "            "
   ]
  },
  {
   "cell_type": "code",
   "execution_count": null,
   "id": "9dac34d4",
   "metadata": {},
   "outputs": [],
   "source": [
    "#train the model\n",
    "\n",
    "EPOCHS = 50\n",
    "\n",
    "train(train_data, EPOCHS)"
   ]
  },
  {
   "cell_type": "code",
   "execution_count": null,
   "id": "cb68f435",
   "metadata": {},
   "outputs": [],
   "source": [
    "# Import metric calculations\n",
    "from tensorflow.keras.metrics import Precision, Recall"
   ]
  },
  {
   "cell_type": "code",
   "execution_count": null,
   "id": "0a2f4032",
   "metadata": {},
   "outputs": [],
   "source": [
    "siamese_model = tf.keras.models.load_model('siamesemodel.keras', custom_objects={'L1Dist':L1Dist, 'BinaryCrossentropy':tf.losses.BinaryCrossentropy})"
   ]
  },
  {
   "cell_type": "code",
   "execution_count": null,
   "id": "65282786",
   "metadata": {
    "scrolled": false
   },
   "outputs": [],
   "source": [
    "# Get a batch of test data\n",
    "test_input, test_val, y_true = test_data.as_numpy_iterator().next()\n",
    "\n",
    "# Make predictions\n",
    "y_hat = siamese_model.predict([test_input, test_val])\n",
    "y_hat\n",
    "\n",
    "# Post processing the results \n",
    "[1 if prediction > 0.5 else 0 for prediction in y_hat ]\n",
    "\n",
    "# Creating a metric object \n",
    "m = Recall()\n",
    "\n",
    "# Calculating the recall value \n",
    "m.update_state(y_true, y_hat)\n",
    "\n",
    "# Return Recall Result\n",
    "m.result().numpy()\n",
    "\n",
    "# Creating a metric object \n",
    "m = Precision()\n",
    "\n",
    "# Calculating the recall value \n",
    "m.update_state(y_true, y_hat)\n",
    "\n",
    "# Return Recall Result\n",
    "m.result().numpy()\n",
    "\n",
    "# Set plot size \n",
    "\n",
    "for i in range(0,len(y_true)):\n",
    "\n",
    "    if y_true[i]==0:\n",
    "        print(i)\n",
    "        plt.figure(figsize=(10,8))\n",
    "\n",
    "    # Set first subplot\n",
    "        plt.subplot(1,2,1)\n",
    "        plt.imshow(test_input[i])\n",
    "\n",
    "    # Set second subplot\n",
    "        plt.subplot(1,2,2)\n",
    "        plt.imshow(test_val[i])\n",
    "\n",
    "    # Renders cleanly\n",
    "        plt.show()"
   ]
  },
  {
   "cell_type": "code",
   "execution_count": null,
   "id": "f9f48424",
   "metadata": {},
   "outputs": [],
   "source": [
    "#save the model\n",
    "\n",
    "#save weights\n",
    "siamese_model.save('siamesemodel.keras')\n"
   ]
  },
  {
   "cell_type": "code",
   "execution_count": null,
   "id": "0476f22b",
   "metadata": {},
   "outputs": [],
   "source": [
    "#reload the model\n",
    "model = tf.keras.models.load_model('siamesemodel.keras', custom_objects={'L1Dist':L1Dist, 'BinaryCrossentropy':tf.losses.BinaryCrossentropy})\n",
    "\n",
    "\n"
   ]
  },
  {
   "cell_type": "code",
   "execution_count": null,
   "id": "e510caa2",
   "metadata": {
    "scrolled": true
   },
   "outputs": [],
   "source": [
    "#make predictions with reloaded model\n",
    "model.predict([test_input,test_val])"
   ]
  },
  {
   "cell_type": "code",
   "execution_count": null,
   "id": "4ca6393c",
   "metadata": {},
   "outputs": [],
   "source": [
    "#view reloaded model summary\n",
    "model.summary()"
   ]
  },
  {
   "cell_type": "code",
   "execution_count": null,
   "id": "767759a3",
   "metadata": {},
   "outputs": [],
   "source": [
    "#real time test:\n",
    "\n",
    "# setup verification images\n",
    "# build verify function\n",
    "# perform recognition in real time"
   ]
  },
  {
   "cell_type": "code",
   "execution_count": null,
   "id": "b2e744f3",
   "metadata": {},
   "outputs": [],
   "source": [
    "#verification function:\n",
    "\n",
    "#acess webacm using open cv to get the input image\n",
    "#verify the input against positive samples\n",
    "    #50 positive samples are compared to the input for each verification round\n",
    "#verification threshold: if prediciton is > 50% then it is a verified sample\n",
    "#detection threshold: percentage of positive images passed the verification threshold\n",
    "    #if there are 50 images trsted against the input, and 30 of them pass the verification \n",
    "    #threshhold of 50% then 30/50 -> 60% for the detection threshhold\n",
    "    #provides an additional metric to confirm a positive verification\n"
   ]
  },
  {
   "cell_type": "code",
   "execution_count": null,
   "id": "dff0ff04",
   "metadata": {},
   "outputs": [],
   "source": [
    "#take a picture from the webcam, save it into input image folder\n",
    "#compare that image against the images in the verification images folder\n"
   ]
  },
  {
   "cell_type": "code",
   "execution_count": null,
   "id": "88955278",
   "metadata": {},
   "outputs": [],
   "source": [
    "#create folders\n",
    "VER_PATH = os.path.join('application_data', 'verification_images')\n",
    "INP_PATH = os.path.join('application_data', 'input_image')\n",
    "\n",
    "#create directories\n",
    "os.makedirs(VER_PATH)\n",
    "os.makedirs(INP_PATH)"
   ]
  },
  {
   "cell_type": "code",
   "execution_count": null,
   "id": "38f8f9b4",
   "metadata": {},
   "outputs": [],
   "source": [
    "#verification function\n",
    "\n",
    "def verify(model, detection_threshold, verification_threshold):\n",
    "    results = []\n",
    "    for image in os.listdir(os.path.join('application_data','verification_images')):   #loops throught the images in verification images folder\n",
    "        input_img = preprocess(os.path.join('application_data', 'input_image', 'input_image.jpg'))   #scale and resize input image from webcam\n",
    "        validation_img = preprocess(os.path.join('application_data', 'verification_images', image))  #scale and resize images in verification folder\n",
    "        \n",
    "        #make predictions\n",
    "        result = model.predict(list(np.expand_dims([input_img, validation_img], axis=1)))\n",
    "        results.append(result)\n",
    "    \n",
    "    #detection threshold\n",
    "    detection = np.sum(np.array(results) > detection_threshold) \n",
    "    \n",
    "    #verification threshold\n",
    "    verification = detection / len(os.listdir(os.path.join('application_data', 'verification_images')))\n",
    "    verified = verification > verification_threshold\n",
    "    \n",
    "    return results, verified\n",
    "    \n"
   ]
  },
  {
   "cell_type": "code",
   "execution_count": null,
   "id": "8b148c1d",
   "metadata": {},
   "outputs": [],
   "source": [
    "cap = cv2.VideoCapture(1)    #0 connects to phone, 1 connects to webcam\n",
    "while cap.isOpened():\n",
    "    ret, frame= cap.read()\n",
    "    frame = frame[300:300+250,540:540+250,:]\n",
    "    \n",
    "    cv2.imshow('Verification', frame)\n",
    "    \n",
    "    # verification trigger\n",
    "    if cv2.waitKey(10) & 0xFF == ord('v'):\n",
    "        #save input image to input image folder\n",
    "        cv2.imwrite(os.path.join('application_data', 'input_image', 'input_image.jpg'), frame)\n",
    "        #verification function\n",
    "        results, verified = verify(model, 0.5, 0.5)\n",
    "        print(verified)\n",
    "    \n",
    "    \n",
    "    if cv2.waitKey(10) & 0xFF == ord('q'):\n",
    "        break\n",
    "cap.release()\n",
    "cv2.destroyAllWindows()"
   ]
  }
 ],
 "metadata": {
  "kernelspec": {
   "display_name": "Python 3 (ipykernel)",
   "language": "python",
   "name": "python3"
  },
  "language_info": {
   "codemirror_mode": {
    "name": "ipython",
    "version": 3
   },
   "file_extension": ".py",
   "mimetype": "text/x-python",
   "name": "python",
   "nbconvert_exporter": "python",
   "pygments_lexer": "ipython3",
   "version": "3.11.4"
  }
 },
 "nbformat": 4,
 "nbformat_minor": 5
}
